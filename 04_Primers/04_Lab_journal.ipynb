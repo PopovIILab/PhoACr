{
 "cells": [
  {
   "cell_type": "markdown",
   "metadata": {},
   "source": [
    "### **Software info**"
   ]
  },
  {
   "cell_type": "markdown",
   "metadata": {},
   "source": [
    "|Software     |Version|\n",
    "|-------------|-------|\n",
    "|`python`|3.13.0|\n",
    "|`ipykernel`|[6.29.5](https://pypi.org/project/ipykernel/)|\n",
    "|`Entrez-direct`|[22.4](https://anaconda.org/bioconda/entrez-direct)|\n",
    "|`Emboss`|[6.6.0](https://anaconda.org/bioconda/emboss)|"
   ]
  },
  {
   "cell_type": "markdown",
   "metadata": {},
   "source": [
    "Conda envinronment: `phoacr.yaml`<br>\n",
    "Install the envinronment with:"
   ]
  },
  {
   "cell_type": "code",
   "execution_count": null,
   "metadata": {},
   "outputs": [],
   "source": [
    "! conda env create -f ../phoacr.yaml"
   ]
  },
  {
   "cell_type": "markdown",
   "metadata": {},
   "source": [
    "Reload `VS Code` (close & open), then activate this envinronment as kernel"
   ]
  },
  {
   "cell_type": "markdown",
   "metadata": {},
   "source": [
    "### **Hardware info**"
   ]
  },
  {
   "cell_type": "markdown",
   "metadata": {},
   "source": [
    "- OS: Ubuntu 22.04 (Windows Subsystem for Linux)\n",
    "- CPU: Intel Xeon E5-2670v3\n",
    "- RAM: 32GB (16GB for WSL)"
   ]
  },
  {
   "cell_type": "code",
   "execution_count": 29,
   "metadata": {},
   "outputs": [
    {
     "name": "stdout",
     "output_type": "stream",
     "text": [
      "Architecture:            x86_64\n",
      "  CPU op-mode(s):        32-bit, 64-bit\n",
      "  Address sizes:         46 bits physical, 48 bits virtual\n",
      "  Byte Order:            Little Endian\n",
      "CPU(s):                  24\n",
      "  On-line CPU(s) list:   0-23\n",
      "Vendor ID:               GenuineIntel\n",
      "  Model name:            Intel(R) Xeon(R) CPU E5-2670 v3 @ 2.30GHz\n",
      "    CPU family:          6\n",
      "    Model:               63\n",
      "    Thread(s) per core:  2\n",
      "    Core(s) per socket:  12\n",
      "    Socket(s):           1\n",
      "    Stepping:            2\n",
      "    BogoMIPS:            4589.37\n",
      "    Flags:               fpu vme de pse tsc msr pae mce cx8 apic sep mtrr pge mc\n",
      "                         a cmov pat pse36 clflush mmx fxsr sse sse2 ss ht syscal\n",
      "                         l nx pdpe1gb rdtscp lm constant_tsc rep_good nopl xtopo\n",
      "                         logy cpuid pni pclmulqdq vmx ssse3 fma cx16 pcid sse4_1\n",
      "                          sse4_2 movbe popcnt aes xsave avx f16c rdrand hypervis\n",
      "                         or lahf_lm abm invpcid_single pti ssbd ibrs ibpb stibp \n",
      "                         tpr_shadow vnmi ept vpid ept_ad fsgsbase bmi1 avx2 smep\n",
      "                          bmi2 erms invpcid xsaveopt md_clear flush_l1d arch_cap\n",
      "                         abilities\n",
      "Virtualization features: \n",
      "  Virtualization:        VT-x\n",
      "  Hypervisor vendor:     Microsoft\n",
      "  Virtualization type:   full\n",
      "Caches (sum of all):     \n",
      "  L1d:                   384 KiB (12 instances)\n",
      "  L1i:                   384 KiB (12 instances)\n",
      "  L2:                    3 MiB (12 instances)\n",
      "  L3:                    30 MiB (1 instance)\n",
      "Vulnerabilities:         \n",
      "  Itlb multihit:         KVM: Mitigation: VMX disabled\n",
      "  L1tf:                  Mitigation; PTE Inversion; VMX conditional cache flushe\n",
      "                         s, SMT vulnerable\n",
      "  Mds:                   Mitigation; Clear CPU buffers; SMT Host state unknown\n",
      "  Meltdown:              Mitigation; PTI\n",
      "  Spec store bypass:     Mitigation; Speculative Store Bypass disabled via prctl\n",
      "                          and seccomp\n",
      "  Spectre v1:            Mitigation; usercopy/swapgs barriers and __user pointer\n",
      "                          sanitization\n",
      "  Spectre v2:            Mitigation; Full generic retpoline, IBPB conditional, I\n",
      "                         BRS_FW, STIBP conditional, RSB filling\n",
      "  Srbds:                 Not affected\n",
      "  Tsx async abort:       Not affected\n"
     ]
    }
   ],
   "source": [
    "! lscpu"
   ]
  },
  {
   "cell_type": "markdown",
   "metadata": {},
   "source": [
    "### **Step 1. Download sequences**"
   ]
  },
  {
   "cell_type": "markdown",
   "metadata": {},
   "source": [
    "Download all the coronaviruses from `RefSeq` database"
   ]
  },
  {
   "cell_type": "code",
   "execution_count": 1,
   "metadata": {},
   "outputs": [],
   "source": [
    "! esearch -db nucleotide \\\n",
    "    -query '(\"Alphacoronavirus\"[Organism] OR \"Betacoronavirus\"[Organism] OR \"Gammacoronavirus\"[Organism] OR coronavirus[All Fields]) AND srcdb_refseq[PROP] AND viruses[filter]' \\\n",
    "    | efetch -format fasta > data/CoVs.fa"
   ]
  },
  {
   "cell_type": "markdown",
   "metadata": {},
   "source": [
    "Download all the viruses from `RefSeq` database"
   ]
  },
  {
   "cell_type": "markdown",
   "metadata": {},
   "source": [
    "> **Warning**: The command below runs approx. 25 minutes"
   ]
  },
  {
   "cell_type": "code",
   "execution_count": 2,
   "metadata": {},
   "outputs": [],
   "source": [
    "! esearch -db nucleotide \\\n",
    "    -query 'srcdb_refseq[PROP] AND viruses[filter]' \\\n",
    "    | efetch -format fasta > data/viruses.fa"
   ]
  },
  {
   "cell_type": "markdown",
   "metadata": {},
   "source": [
    "Check how many coronaviruses has been downloaded from `RefSeq`"
   ]
  },
  {
   "cell_type": "code",
   "execution_count": 3,
   "metadata": {},
   "outputs": [
    {
     "name": "stdout",
     "output_type": "stream",
     "text": [
      "The number of sequences in `data/CoVs.fa` file: 74\n"
     ]
    }
   ],
   "source": [
    "with open(\"data/CoVs.fa\", \"r\") as fasta_file:\n",
    "    content = fasta_file.read()\n",
    "    num_sequences = content.count(\">\")\n",
    "print(f\"The number of sequences in `data/CoVs.fa` file: {num_sequences}\")"
   ]
  },
  {
   "cell_type": "markdown",
   "metadata": {},
   "source": [
    "Check how many viruses has been downloaded from `RefSeq`"
   ]
  },
  {
   "cell_type": "code",
   "execution_count": 4,
   "metadata": {},
   "outputs": [
    {
     "name": "stdout",
     "output_type": "stream",
     "text": [
      "The number of sequences in `data/viruses.fa` file: 18748\n"
     ]
    }
   ],
   "source": [
    "with open(\"data/viruses.fa\", \"r\") as fasta_file:\n",
    "    content = fasta_file.read()\n",
    "    num_sequences = content.count(\">\")\n",
    "print(f\"The number of sequences in `data/viruses.fa` file: {num_sequences}\")"
   ]
  },
  {
   "cell_type": "markdown",
   "metadata": {},
   "source": [
    "### **Step 2. _In silico_ PCR**"
   ]
  },
  {
   "cell_type": "markdown",
   "metadata": {},
   "source": [
    "Make directory to store results"
   ]
  },
  {
   "cell_type": "code",
   "execution_count": 12,
   "metadata": {},
   "outputs": [],
   "source": [
    "! mkdir results/"
   ]
  },
  {
   "cell_type": "markdown",
   "metadata": {},
   "source": [
    "PCR primers were designed by our collaborators<br>\n",
    "Here we test their selectivity and sensetivity"
   ]
  },
  {
   "cell_type": "markdown",
   "metadata": {},
   "source": [
    "Check selectivity"
   ]
  },
  {
   "cell_type": "code",
   "execution_count": 13,
   "metadata": {},
   "outputs": [
    {
     "name": "stdout",
     "output_type": "stream",
     "text": [
      "Search DNA sequences for matches with primer pairs\n"
     ]
    }
   ],
   "source": [
    "! primersearch -seqall data/CoVs.fa -infile data/primers -mismatchpercent 10 -outfile results/selectivity.txt"
   ]
  },
  {
   "cell_type": "markdown",
   "metadata": {},
   "source": [
    "Check sensetivity"
   ]
  },
  {
   "cell_type": "code",
   "execution_count": 21,
   "metadata": {},
   "outputs": [
    {
     "name": "stdout",
     "output_type": "stream",
     "text": [
      "Search DNA sequences for matches with primer pairs\n"
     ]
    }
   ],
   "source": [
    "! primersearch -seqall data/viruses.fa -infile data/primers -mismatchpercent 10 -outfile results/sensetivity.txt"
   ]
  },
  {
   "cell_type": "markdown",
   "metadata": {},
   "source": [
    "### **Step 3. Visualization**"
   ]
  },
  {
   "cell_type": "markdown",
   "metadata": {},
   "source": [
    "Please open `RStudio` and proceed to the `heatmap_journal.R` script"
   ]
  }
 ],
 "metadata": {
  "kernelspec": {
   "display_name": "phoacr",
   "language": "python",
   "name": "python3"
  },
  "language_info": {
   "codemirror_mode": {
    "name": "ipython",
    "version": 3
   },
   "file_extension": ".py",
   "mimetype": "text/x-python",
   "name": "python",
   "nbconvert_exporter": "python",
   "pygments_lexer": "ipython3",
   "version": "3.13.0"
  }
 },
 "nbformat": 4,
 "nbformat_minor": 2
}
